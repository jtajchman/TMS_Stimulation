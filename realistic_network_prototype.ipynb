{
 "cells": [
  {
   "cell_type": "code",
   "execution_count": 2,
   "metadata": {},
   "outputs": [
    {
     "name": "stderr",
     "output_type": "stream",
     "text": [
      "NEURON: The user defined name already exists: Ca\n",
      " near line 0\n",
      " objref hoc_obj_[2]\n",
      "                   ^\n",
      "        nrn_load_dll(\"C:\\Users\\j...\")\n"
     ]
    }
   ],
   "source": [
    "%matplotlib ipympl\n",
    "\n",
    "import json\n",
    "import numpy as np\n",
    "import os\n",
    "import sys\n",
    "from neuron import h\n",
    "from matplotlib import pyplot as plt\n",
    "from netpyne import sim, specs\n",
    "import pickle\n",
    "import tmsneurosim\n",
    "from tmsneurosim.nrn import cells\n",
    "from tmsneurosim.nrn.cells import NeuronCell\n",
    "\n",
    "# plt.switch_backend('TkAgg')"
   ]
  },
  {
   "cell_type": "markdown",
   "metadata": {},
   "source": [
    "Directories"
   ]
  },
  {
   "cell_type": "code",
   "execution_count": 3,
   "metadata": {},
   "outputs": [],
   "source": [
    "study = \"WeiseEtAl2023\"  # (same cells as Aberra)\n",
    "rootFolder = os.getcwd()\n",
    "os.chdir(rootFolder)\n",
    "folder = sorted(os.listdir(study + \"/cells/\"))\n",
    "celltypes = [\n",
    "    \"L1_NGC-DA\",\n",
    "    \"L23_PC\",\n",
    "    \"L23_SBC\",\n",
    "    \"L4_LBC_cAC\",\n",
    "    \"L4_LBC_cNAC\",\n",
    "    \"L4_MC\",\n",
    "    \"L4_SS\",\n",
    "    \"L5_LBC\",\n",
    "    \"L5_TTPC2\",\n",
    "    \"L6_TPC\",\n",
    "]\n",
    "cell_library = {}\n",
    "for i, l in enumerate(celltypes):\n",
    "    cell_library[l] = folder[i * 5 : (i + 1) * 5]"
   ]
  },
  {
   "cell_type": "markdown",
   "metadata": {},
   "source": [
    "nrnivmodl"
   ]
  },
  {
   "cell_type": "code",
   "execution_count": 4,
   "metadata": {},
   "outputs": [
    {
     "data": {
      "text/plain": [
       "4"
      ]
     },
     "execution_count": 4,
     "metadata": {},
     "output_type": "execute_result"
    }
   ],
   "source": [
    "os.chdir(f\"{rootFolder}/{study}/mechanisms/\")\n",
    "os.system(\"nrnivmodl\")\n",
    "os.chdir(rootFolder)\n",
    "os.system(f\"xcopy /s/y {rootFolder}\\\\{study}\\\\mechanisms\\\\nrnmech.dll\")"
   ]
  },
  {
   "cell_type": "markdown",
   "metadata": {},
   "source": [
    "cfg"
   ]
  },
  {
   "cell_type": "code",
   "execution_count": 5,
   "metadata": {},
   "outputs": [],
   "source": [
    "cfg = specs.SimConfig()\n",
    "\n",
    "cfg.duration = 100  ## Duration of the sim, in ms\n",
    "cfg.dt = 0.025\n",
    "cfg.seeds = {\"conn\": 4321, \"stim\": 1234, \"loc\": 4321}\n",
    "cfg.hParams = {\"celsius\": 34, \"v_init\": -70}\n",
    "cfg.verbose = False\n",
    "cfg.createNEURONObj = True\n",
    "cfg.createPyStruct = True\n",
    "cfg.cvode_active = False\n",
    "cfg.cvode_atol = 1e-6\n",
    "cfg.cache_efficient = True\n",
    "cfg.printRunTime = 0.1\n",
    "\n",
    "cfg.includeParamsLabel = False\n",
    "cfg.printPopAvgRates = True\n",
    "cfg.checkErrors = False"
   ]
  },
  {
   "cell_type": "markdown",
   "metadata": {},
   "source": [
    "Cell choice"
   ]
  },
  {
   "cell_type": "code",
   "execution_count": 6,
   "metadata": {},
   "outputs": [],
   "source": [
    "# ['L1_NGC-DA', 'L23_PC', 'L23_SBC', 'L4_LBC_cAC', 'L4_LBC_cNAC', 'L4_MC', 'L4_SS', 'L5_LBC', 'L5_TTPC2', 'L6_TPC']\n",
    "cell_choice = [\n",
    "    \"L23_PC\",\n",
    "    \"L23_SBC\",\n",
    "    \"L4_LBC_cNAC\",\n",
    "    \"L4_MC\",\n",
    "    \"L4_SS\",\n",
    "    \"L5_LBC\",\n",
    "    \"L5_TTPC2\",\n",
    "]\n",
    "cell_id = 1\n",
    "reduced = 1\n",
    "\n",
    "inh_cells = [\"L1_NGC_DA\", \"L23_SBC\", \"L4_LBC_cAC\", \"L4_LBC_cNAC\", \"L4_MC\", \"L5_LBC\"]\n",
    "exc_cells = [\"L23_PC\", \"L4_SS\", \"L5_TTPC2\", \"L6_TPC\"]\n",
    "\n",
    "allpops = [\"L2_PV\", \"L3_P\", \"L3_SS\", \"L4_SST\", \"L4_SS\", \"L4_PV\", \"L5_P\", \"L5_PV\"]\n",
    "cell_types = [\n",
    "    \"L23_SBC\",\n",
    "    \"L23_PC\",\n",
    "    \"L4_SS\",\n",
    "    \"L4_MC\",\n",
    "    \"L4_SS\",\n",
    "    \"L4_LBC_cNAC\",\n",
    "    \"L5_TTPC2\",\n",
    "    \"L5_LBC\",\n",
    "]\n",
    "if reduced:\n",
    "    allpops = [\"L5_P\"]\n",
    "    cell_types = [\"L5_TTPC2\"]\n",
    "    cell_choice = cell_types\n",
    "pop_to_cell = {pop: cell for pop, cell in zip(allpops, cell_types)}"
   ]
  },
  {
   "cell_type": "markdown",
   "metadata": {},
   "source": [
    "Recording & saving settings"
   ]
  },
  {
   "cell_type": "code",
   "execution_count": 7,
   "metadata": {},
   "outputs": [],
   "source": [
    "cfg.recordCells = allpops  # which cells to record from\n",
    "## Dict with traces to record\n",
    "cfg.recordTraces = {\n",
    "    \"V_soma\": {\"sec\": \"soma_0\", \"loc\": 0.5, \"var\": \"v\"},\n",
    "    \"V_axon_0\": {\"sec\": \"axon_0\", \"loc\": 0.5, \"var\": \"v\"},\n",
    "    \"V_axon_1\": {\"sec\": \"Myelin_0\", \"loc\": 0.5, \"var\": \"v\"},\n",
    "    # 'V_apic_0': {'sec':'apic_0', 'loc':0.5, 'var':'v'},\n",
    "    \"V_apic_5\": {\"sec\": \"apic_5\", \"loc\": 0.5, \"var\": \"v\"},\n",
    "    \"V_apic_95\": {\"sec\": \"apic_95\", \"loc\": 0.5, \"var\": \"v\"},\n",
    "    # 'V_apic_100': {'sec':'apic_100', 'loc':0.5, 'var':'v'},\n",
    "    # 'V_dend_8_1': {'sec':'dend_8', 'loc':0.1, 'var':'v'},\n",
    "    # 'V_dend_8_3': {'sec':'dend_8', 'loc':0.3, 'var':'v'},\n",
    "    # 'V_dend_8_5': {'sec':'dend_8', 'loc':0.5, 'var':'v'},\n",
    "    # 'V_dend_8_7': {'sec':'dend_8', 'loc':0.7, 'var':'v'},\n",
    "    # 'V_dend_8_9': {'sec':'dend_8', 'loc':0.9, 'var':'v'},\n",
    "    \"V_dend_5\": {\"sec\": \"dend_5\", \"loc\": 0.5, \"var\": \"v\"},\n",
    "    \"V_dend_65\": {\"sec\": \"dend_65\", \"loc\": 0.5, \"var\": \"v\"},\n",
    "    # 'V_dend_70': {'sec':'dend_70', 'loc':0.5, 'var':'v'},\n",
    "}\n",
    "\n",
    "cfg.recordStim = True\n",
    "cfg.recordTime = True\n",
    "cfg.recordStep = 0.025\n",
    "\n",
    "cfg.recordLFP = [[0, y, 0] for y in [-400]]  # 1 elec on skull\n",
    "\n",
    "cfg.simLabel = \"Real_Net_Prototype\"\n",
    "cfg.saveFolder = \".\"\n",
    "cfg.savePickle = False  ## Save pkl file\n",
    "cfg.saveJson = False  ## Save json file\n",
    "cfg.saveDataInclude = [\n",
    "    \"simConfig\",\n",
    "    \"netParams\",\n",
    "]  ## 'simData' , 'simConfig', 'netParams'\n",
    "cfg.backupCfgFile = None  ##\n",
    "cfg.gatherOnlySimData = False  ##\n",
    "cfg.saveCellSecs = False  ##\n",
    "cfg.saveCellConns = False  ##\n",
    "\n",
    "cfg.analysis[\"plotTraces\"] = {\n",
    "    \"include\": allpops,\n",
    "    \"figSize\": (12, 4),\n",
    "    \"saveFig\": False,\n",
    "    \"overlay\": True,\n",
    "    \"oneFigPer\": \"cell\",\n",
    "}  # Plot recorded traces for this list of cells"
   ]
  },
  {
   "cell_type": "markdown",
   "metadata": {},
   "source": [
    "IClamp"
   ]
  },
  {
   "cell_type": "code",
   "execution_count": 8,
   "metadata": {},
   "outputs": [
    {
     "data": {
      "text/plain": [
       "\"with open(cellFolders[0] + '/current_amps.dat') as current_file:\\n    current_content = current_file.read()\\n    \\nholding_current, step1_current, step2_current, step3_current = [float(x) for x in current_content.split()]\\n# step1_current = step2_current\\nprint ('load step1_current from current_amps.dat = %s' % step1_current)\\n\\nstep1_current = holding_current + step1_current/1.25\""
      ]
     },
     "execution_count": 8,
     "metadata": {},
     "output_type": "execute_result"
    }
   ],
   "source": [
    "# cfg.IClamp1 = {'pop': 'L5_TTPC', 'sec': 'soma_0', 'loc': 0.5, 'start': 1000, 'dur': 1000, 'amp': 1}\n",
    "\n",
    "\n",
    "\"\"\"with open(cellFolders[0] + '/current_amps.dat') as current_file:\n",
    "    current_content = current_file.read()\n",
    "    \n",
    "holding_current, step1_current, step2_current, step3_current = [float(x) for x in current_content.split()]\n",
    "# step1_current = step2_current\n",
    "print ('load step1_current from current_amps.dat = %s' % step1_current)\n",
    "\n",
    "step1_current = holding_current + step1_current/1.25\"\"\""
   ]
  },
  {
   "cell_type": "markdown",
   "metadata": {},
   "source": [
    "Cell params"
   ]
  },
  {
   "cell_type": "code",
   "execution_count": 9,
   "metadata": {},
   "outputs": [
    {
     "name": "stdout",
     "output_type": "stream",
     "text": [
      "L5_TTPC2\n",
      "Axon sections (L5_TTPC2): 763\n"
     ]
    }
   ],
   "source": [
    "netParams = (\n",
    "    specs.NetParams()\n",
    ")  # object of class NetParams to store the network parameters\n",
    "\n",
    "# ------------------------------------------------------------------------------\n",
    "# Cell parameters\n",
    "# ------------------------------------------------------------------------------\n",
    "# StochKv_deterministic.mod\n",
    "\n",
    "for cellName in cell_choice:\n",
    "    cellRuleLabel = cellName + \"_rule\"\n",
    "    cellRule = netParams.importCellParams(\n",
    "        label=cellRuleLabel,\n",
    "        somaAtOrigin=False,\n",
    "        conds={\"cellType\": cellName, \"cellModel\": \"HH_full\"},\n",
    "        fileName=\"cellwrapper3.py\",\n",
    "        cellName=\"loadCell_Net_adv\",\n",
    "        cellInstance=True,\n",
    "        cellArgs={\"cellName\": cellName, \"id\": cell_id},\n",
    "    )\n",
    "\n",
    "    cellSecLists = cellRule[\"secLists\"]\n",
    "    cellSecs = cellRule[\"secs\"]\n",
    "\n",
    "    cellSecLists[\"all\"] = list(cellSecs.keys())\n",
    "    cellSecLists[\"somatic\"] = [sec for sec in list(cellSecs.keys()) if \"soma\" in sec]\n",
    "    cellSecLists[\"apical\"] = [sec for sec in list(cellSecs.keys()) if \"apic\" in sec]\n",
    "    cellSecLists[\"basal\"] = [sec for sec in list(cellSecs.keys()) if \"dend\" in sec]\n",
    "    cellSecLists[\"axonal\"] = [\n",
    "        sec\n",
    "        for sec in list(cellSecs.keys())\n",
    "        if \"Node\" in sec or \"axon\" in sec or \"y\" in sec\n",
    "    ]\n",
    "\n",
    "    for sec in cellSecs.values():\n",
    "        sec[\"mechs\"][\"extracellular\"] = {}\n",
    "        del sec.mechs.xtra\n",
    "        if sec[\"geom\"][\"diam\"] > 10:\n",
    "            sec[\"geom\"][\"diam\"] = 1.0\n",
    "            sec[\"geom\"][\"pt3d\"] = [\n",
    "                (pt[0], pt[1], pt[2], 1.0) for pt in sec[\"geom\"][\"pt3d\"]\n",
    "            ]\n",
    "\n",
    "    print(\n",
    "        f\"Axon sections ({cellName}): \"\n",
    "        + str(len(netParams.cellParams[cellRuleLabel][\"secLists\"][\"axonal\"]))\n",
    "    )"
   ]
  },
  {
   "cell_type": "markdown",
   "metadata": {},
   "source": [
    "Pop params"
   ]
  },
  {
   "cell_type": "code",
   "execution_count": 10,
   "metadata": {},
   "outputs": [
    {
     "name": "stdout",
     "output_type": "stream",
     "text": [
      "L5_P [{'x': 0, 'y': 0, 'z': 1120.116}]\n"
     ]
    },
    {
     "data": {
      "text/plain": [
       "\"for key in [k for k in dir(cfg) if k.startswith('IClamp')]:\\n    params = getattr(cfg, key, None)\\n    [pop,sec,loc,start,dur,amp] = [params[s] for s in ['pop','sec','loc','start','dur','amp']]\\n\\n    #cfg.analysis['plotTraces']['include'].append((pop,0))  # record that pop\\n\\n    # add stim source\\n    netParams.stimSourceParams[key] = {'type': 'IClamp', 'delay': start, 'dur': dur, 'amp': amp}\\n\\n    # connect stim source to target\\n    netParams.stimTargetParams[key+'_'+pop] =  {\\n        'source': key, \\n        'conds': {'pop': pop},\\n        'sec': sec, \\n        'loc': loc}\""
      ]
     },
     "execution_count": 10,
     "metadata": {},
     "output_type": "execute_result"
    }
   ],
   "source": [
    "# ------------------------------------------------------------------------------\n",
    "# Population parameters\n",
    "# ------------------------------------------------------------------------------\n",
    "\"\"\"\n",
    "From 'Large-scale biophysically detailed model of somatosensory thalamocortical circuits in NetPyNE'\n",
    "https://www.frontiersin.org/articles/10.3389/fninf.2022.884245/full\n",
    "\n",
    "Layer\theight (um)\theight (normal)\tfrom\tto\n",
    "L1\t    165\t\t    0.079\t\t    0.000\t0.079\n",
    "L2\t    149\t\t    0.072\t\t    0.079\t0.151\n",
    "L3\t    353\t\t    0.170\t\t    0.151\t0.320\n",
    "L4\t    190\t\t    0.091\t\t    0.320\t0.412\n",
    "L5\t    525\t\t    0.252\t\t    0.412\t0.664\n",
    "L6\t    700\t\t    0.336\t\t    0.664\t1.000\n",
    "L23\t    502\t\t    0.241\t\t    0.079\t0.320\n",
    "All\t    2082\t    1.000\n",
    "\"\"\"\n",
    "\n",
    "# Primary axis of neurons & neural column is in the z-direction\n",
    "netParams.sizeZ = 2082  # um\n",
    "norm_layer_z_ranges = {\n",
    "    \"L1\": [0.0, 0.079],\n",
    "    \"L2\": [0.079, 0.151],\n",
    "    \"L3\": [0.151, 0.320],\n",
    "    \"L23\": [0.079, 0.320],\n",
    "    \"L4\": [0.320, 0.412],\n",
    "    \"L5\": [0.412, 0.664],\n",
    "    \"L6\": [0.664, 1.0],\n",
    "    \"longS1\": [2.2, 2.3],\n",
    "    \"longS2\": [2.3, 2.4],\n",
    "}  # normalized layer boundaries\n",
    "# layer_y_ranges = {'L1': [0, 165], 'L23': [165, 667], 'L4': [667, 857], 'L5': [857, 1382], 'L6': [1382, 2082]}\n",
    "\n",
    "\n",
    "def scale_layer_norm_ranges(\n",
    "    norm_ranges: dict[str, list[float]]\n",
    ") -> dict[str, list[float]]:\n",
    "    \"\"\"\n",
    "    norm_ranges should be a dict of the form {'layer': [low_bound, up_bound], ...}\n",
    "    \"\"\"\n",
    "    return {\n",
    "        layer: [val * netParams.sizeZ for val in values]\n",
    "        for layer, values in norm_ranges.items()\n",
    "    }\n",
    "\n",
    "\n",
    "layer_z_ranges = scale_layer_norm_ranges(norm_layer_z_ranges)\n",
    "\n",
    "\n",
    "def pop_to_layer(pop: str) -> str:\n",
    "    return pop[: pop.find(\"_\")]\n",
    "\n",
    "\n",
    "# positions = [[{'x': x-857 , 'y': x , 'z': 0}] for x in range(857, 1382, 250)]\n",
    "for pop in allpops:\n",
    "    cellName = pop_to_cell[pop]\n",
    "    position = [{\"x\": 0, \"y\": 0, \"z\": np.mean(layer_z_ranges[pop_to_layer(pop)])}]\n",
    "    print(pop, position)\n",
    "    netParams.popParams[pop] = {\n",
    "        \"cellType\": cellName,\n",
    "        \"cellModel\": \"HH_full\",\n",
    "        \"cellsList\": position,\n",
    "    }\n",
    "\n",
    "\"\"\"for key in [k for k in dir(cfg) if k.startswith('IClamp')]:\n",
    "    params = getattr(cfg, key, None)\n",
    "    [pop,sec,loc,start,dur,amp] = [params[s] for s in ['pop','sec','loc','start','dur','amp']]\n",
    "\n",
    "    #cfg.analysis['plotTraces']['include'].append((pop,0))  # record that pop\n",
    "\n",
    "    # add stim source\n",
    "    netParams.stimSourceParams[key] = {'type': 'IClamp', 'delay': start, 'dur': dur, 'amp': amp}\n",
    "\n",
    "    # connect stim source to target\n",
    "    netParams.stimTargetParams[key+'_'+pop] =  {\n",
    "        'source': key, \n",
    "        'conds': {'pop': pop},\n",
    "        'sec': sec, \n",
    "        'loc': loc}\"\"\""
   ]
  },
  {
   "cell_type": "markdown",
   "metadata": {},
   "source": [
    "Network connection params"
   ]
  },
  {
   "cell_type": "code",
   "execution_count": 11,
   "metadata": {},
   "outputs": [
    {
     "data": {
      "text/plain": [
       "\"netParams.connParams['->'] = {\\n    'preConds': {'pop': }, \\n    'postConds': {'pop': }, \\n    'weight': 0.05, \\n    'delay': 5,\\n    'synMech': 'exc'}\\n\\nnetParams.connParams['->'] = {\\n    'preConds': {'pop': }, \\n    'postConds': {'pop': }, \\n    'weight': 0.05, \\n    'delay': 5,\\n    'synMech': 'inh'}\""
      ]
     },
     "execution_count": 11,
     "metadata": {},
     "output_type": "execute_result"
    }
   ],
   "source": [
    "# Network connections\n",
    "## Synaptic mechanism parameters\n",
    "netParams.synMechParams[\"exc\"] = {\n",
    "    \"mod\": \"Exp2Syn\",\n",
    "    \"tau1\": 0.2,\n",
    "    \"tau2\": 5.0,\n",
    "    \"e\": 0,\n",
    "}  # excitatory synaptic mechanism\n",
    "\n",
    "netParams.synMechParams[\"inh\"] = {\n",
    "    \"mod\": \"Exp2Syn\",\n",
    "    \"tau1\": 0.2,\n",
    "    \"tau2\": 5.0,\n",
    "    \"e\": -70,\n",
    "}  # inhibitory synaptic mechanism\n",
    "\n",
    "# Stimulation parameters\n",
    "netParams.stimSourceParams[\"bkg\"] = {\"type\": \"NetStim\", \"rate\": 5, \"noise\": 1.0}  # hz\n",
    "\n",
    "netParams.stimTargetParams[\"bkg->all\"] = {\n",
    "    \"source\": \"bkg\",\n",
    "    \"conds\": {\"pop\": allpops},\n",
    "    \"weight\": 0.05,\n",
    "    \"delay\": 5,\n",
    "    \"synMech\": \"exc\",\n",
    "}\n",
    "\n",
    "## Cell connectivity rules\n",
    "netParams.connParams[\"L2_PV->L2_PV\"] = {\n",
    "    \"preConds\": {\"pop\": \"L2_PV\"},\n",
    "    \"postConds\": {\"pop\": \"L2_PV\"},\n",
    "    \"weight\": 0.05,\n",
    "    \"delay\": 5,\n",
    "    \"synMech\": \"inh\",\n",
    "}\n",
    "\n",
    "netParams.connParams[\"L2_PV->L3_P\"] = {\n",
    "    \"preConds\": {\"pop\": \"L2_PV\"},\n",
    "    \"postConds\": {\"pop\": \"L3_P\"},\n",
    "    \"weight\": 0.05,\n",
    "    \"delay\": 5,\n",
    "    \"synMech\": \"inh\",\n",
    "}\n",
    "\n",
    "netParams.connParams[\"L3_P->L2_PV\"] = {\n",
    "    \"preConds\": {\"pop\": \"L3_P\"},\n",
    "    \"postConds\": {\"pop\": \"L2_PV\"},\n",
    "    \"weight\": 0.05,\n",
    "    \"delay\": 5,\n",
    "    \"synMech\": \"exc\",\n",
    "}\n",
    "\n",
    "netParams.connParams[\"L3_P->L3_P\"] = {\n",
    "    \"preConds\": {\"pop\": \"L3_P\"},\n",
    "    \"postConds\": {\"pop\": \"L3_P\"},\n",
    "    \"weight\": 0.05,\n",
    "    \"delay\": 5,\n",
    "    \"synMech\": \"exc\",\n",
    "}\n",
    "\n",
    "netParams.connParams[\"L3_P->L5_P\"] = {\n",
    "    \"preConds\": {\"pop\": \"L3_P\"},\n",
    "    \"postConds\": {\"pop\": \"L5_P\"},\n",
    "    \"weight\": 0.05,\n",
    "    \"delay\": 5,\n",
    "    \"synMech\": \"exc\",\n",
    "}\n",
    "\n",
    "netParams.connParams[\"L3_SS->L5_P\"] = {\n",
    "    \"preConds\": {\"pop\": \"L3_SS\"},\n",
    "    \"postConds\": {\"pop\": \"L5_P\"},\n",
    "    \"weight\": 0.05,\n",
    "    \"delay\": 5,\n",
    "    \"synMech\": \"exc\",\n",
    "}\n",
    "\n",
    "netParams.connParams[\"L4_SST->L5_P\"] = {\n",
    "    \"preConds\": {\"pop\": \"L4_SST\"},\n",
    "    \"postConds\": {\"pop\": \"L5_P\"},\n",
    "    \"weight\": 0.05,\n",
    "    \"delay\": 5,\n",
    "    \"synMech\": \"inh\",\n",
    "}\n",
    "\n",
    "netParams.connParams[\"L4_SS->L5_P\"] = {\n",
    "    \"preConds\": {\"pop\": \"L4_SS\"},\n",
    "    \"postConds\": {\"pop\": \"L5_P\"},\n",
    "    \"weight\": 0.05,\n",
    "    \"delay\": 5,\n",
    "    \"synMech\": \"exc\",\n",
    "}\n",
    "\n",
    "netParams.connParams[\"L4_PV->L4_PV\"] = {\n",
    "    \"preConds\": {\"pop\": \"L4_PV\"},\n",
    "    \"postConds\": {\"pop\": \"L4_PV\"},\n",
    "    \"weight\": 0.05,\n",
    "    \"delay\": 5,\n",
    "    \"synMech\": \"inh\",\n",
    "}\n",
    "\n",
    "netParams.connParams[\"L4_PV->L5_P\"] = {\n",
    "    \"preConds\": {\"pop\": \"L4_PV\"},\n",
    "    \"postConds\": {\"pop\": \"L5_P\"},\n",
    "    \"weight\": 0.05,\n",
    "    \"delay\": 5,\n",
    "    \"synMech\": \"inh\",\n",
    "}\n",
    "\n",
    "netParams.connParams[\"L5_P->L3_SS\"] = {\n",
    "    \"preConds\": {\"pop\": \"L5_P\"},\n",
    "    \"postConds\": {\"pop\": \"L3_SS\"},\n",
    "    \"weight\": 0.05,\n",
    "    \"delay\": 5,\n",
    "    \"synMech\": \"exc\",\n",
    "}\n",
    "\n",
    "netParams.connParams[\"L5_P->L4_SST\"] = {\n",
    "    \"preConds\": {\"pop\": \"L5_P\"},\n",
    "    \"postConds\": {\"pop\": \"L4_SST\"},\n",
    "    \"weight\": 0.05,\n",
    "    \"delay\": 5,\n",
    "    \"synMech\": \"exc\",\n",
    "}\n",
    "\n",
    "netParams.connParams[\"L5_P->L4_SS\"] = {\n",
    "    \"preConds\": {\"pop\": \"L5_P\"},\n",
    "    \"postConds\": {\"pop\": \"L4_SS\"},\n",
    "    \"weight\": 0.05,\n",
    "    \"delay\": 5,\n",
    "    \"synMech\": \"exc\",\n",
    "}\n",
    "\n",
    "netParams.connParams[\"L5_PV->L5_P\"] = {\n",
    "    \"preConds\": {\"pop\": \"L5_PV\"},\n",
    "    \"postConds\": {\"pop\": \"L5_P\"},\n",
    "    \"weight\": 0.05,\n",
    "    \"delay\": 5,\n",
    "    \"synMech\": \"inh\",\n",
    "}\n",
    "\n",
    "netParams.connParams[\"L5_PV->L5_PV\"] = {\n",
    "    \"preConds\": {\"pop\": \"L5_PV\"},\n",
    "    \"postConds\": {\"pop\": \"L5_PV\"},\n",
    "    \"weight\": 0.05,\n",
    "    \"delay\": 5,\n",
    "    \"synMech\": \"inh\",\n",
    "}\n",
    "\n",
    "# netParams.connParams['->'] = {\n",
    "#     'preConds': {'pop': }, \n",
    "#     'postConds': {'pop': }, \n",
    "#     'weight': 0.05, \n",
    "#     'delay': 5,\n",
    "#     'synMech': 'exc'}\n",
    "\n",
    "# netParams.connParams['->'] = {\n",
    "#     'preConds': {'pop': }, \n",
    "#     'postConds': {'pop': }, \n",
    "#     'weight': 0.05, \n",
    "#     'delay': 5,\n",
    "#     'synMech': 'inh'}"
   ]
  },
  {
   "cell_type": "markdown",
   "metadata": {},
   "source": [
    "Set up sim"
   ]
  },
  {
   "cell_type": "code",
   "execution_count": 12,
   "metadata": {},
   "outputs": [
    {
     "name": "stdout",
     "output_type": "stream",
     "text": [
      "\n",
      "Start time:  2024-06-24 13:21:54.278273\n",
      "\n",
      "Creating network of 1 cell populations on 1 hosts...\n",
      "  Number of cells on node 0: 1 \n",
      "  Done; cell creation time = 0.11 s.\n",
      "Making connections...\n",
      "  Number of connections on node 0: 0 \n",
      "  Done; cell connection time = 0.00 s.\n",
      "Adding stims...\n",
      "  Number of stims on node 0: 1 \n",
      "  Done; cell stims creation time = 0.00 s.\n",
      "Recording 8 traces of 8 types on node 0\n",
      "Plotting 3D cell shape ...\n"
     ]
    }
   ],
   "source": [
    "# netParams.rotateCellsRandomly = [0, 6.2832]\n",
    "# sim.createSimulateAnalyze(netParams, cfg)\n",
    "sim.initialize(\n",
    "    simConfig=cfg, netParams=netParams\n",
    ")  # create network object and set cfg and net params\n",
    "sim.net.createPops()  # instantiate network populations\n",
    "sim.net.createCells()  # instantiate network cells based on defined populations\n",
    "sim.net.defineCellShapes()  # in case some cells had stylized morphologies without 3d pts\n",
    "sim.net.connectCells()  # create connections between cells based on params\n",
    "sim.net.addStims()  # add network stimulation\n",
    "sim.setupRecording()  # setup variables to record for each cell (spikes, V traces, etc)\n",
    "# cellsPost = sim.getCellsList(includePost)\n",
    "\n",
    "fig, _ = sim.analysis.plotShape(\n",
    "    includePre=allpops,\n",
    "    includePost=allpops,\n",
    "    includeAxon=True,\n",
    "    showSyns=False,\n",
    "    showElectrodes=False,\n",
    "    cvar=\"voltage\",\n",
    "    dist=0.6,\n",
    "    elev=95,\n",
    "    azim=-90,\n",
    "    axisLabels=True,\n",
    "    synStyle=\"o\",\n",
    "    clim=[-100, -50],\n",
    "    showFig=False,\n",
    "    synSize=2,\n",
    ")\n",
    "# plt.show(); exit()"
   ]
  },
  {
   "cell_type": "markdown",
   "metadata": {},
   "source": [
    "Add TMS"
   ]
  },
  {
   "cell_type": "code",
   "execution_count": 13,
   "metadata": {},
   "outputs": [
    {
     "name": "stdout",
     "output_type": "stream",
     "text": [
      "Applying TMS to network...\n",
      "test\n",
      "True\n"
     ]
    },
    {
     "data": {
      "text/plain": [
       "<netpyne.network.network.Network at 0x212dc40ea90>"
      ]
     },
     "execution_count": 13,
     "metadata": {},
     "output_type": "execute_result"
    }
   ],
   "source": [
    "# The parameters of the extracellular point current source\n",
    "tms_params = {\n",
    "    \"amp\": 1000.0,  # V/m,\n",
    "    \"stimstart\": 0,  # ms\n",
    "    \"stimend\": cfg.duration,  # ms\n",
    "    \"frequency\": 50,  # Hz\n",
    "    \"dt\": cfg.dt,\n",
    "    \"field_direction\": [-1, -1, -1],\n",
    "    \"sigma\": 0.1,  # EF decay constant in %(V/m)/mm\n",
    "    \"decay_dir\": [0, 0, -1],  # Direction that field strength decay occurs on\n",
    "    \"pulse_width\": 1,  # Duration of TMS pulse in ms\n",
    "}\n",
    "\n",
    "# skull_attenuation = 0.01*710 #conductivity of bone(S/m) * thickness of rat skull um\n",
    "\n",
    "# Add extracellular stim\n",
    "from tms_tools import apply_tms\n",
    "\n",
    "apply_tms(sim.net, tms_params)\n",
    "\n",
    "# '''vext_soma = []\n",
    "# vext_axon = []\n",
    "# for cell in sim.net.cells:\n",
    "#    ve_soma = h.Vector().record(cell.secs['soma_0']['hObj'](0.5)._ref_vext[0])\n",
    "#    ve_axon = h.Vector().record(cell.secs['Myelin_1']['hObj'](0.5)._ref_vext[0])\n",
    "#    vext_soma.append(ve_soma)\n",
    "#    vext_axon.append(ve_axon)'''"
   ]
  },
  {
   "cell_type": "markdown",
   "metadata": {},
   "source": [
    "Run sim"
   ]
  },
  {
   "cell_type": "code",
   "execution_count": null,
   "metadata": {},
   "outputs": [],
   "source": [
    "sim.runSim()  # run parallel Neuron simulation\n",
    "sim.gatherData()  # gather spiking data and cell info from each node\n",
    "sim.saveData()  # save params, cell info and sim output to file (pickle,mat,txt,etc)#\n",
    "sim.analysis.plotData()  # plot spike raster etc\n",
    "# sim.analysis.plotShape()"
   ]
  },
  {
   "cell_type": "markdown",
   "metadata": {},
   "source": [
    "Plotting"
   ]
  },
  {
   "cell_type": "code",
   "execution_count": null,
   "metadata": {},
   "outputs": [],
   "source": [
    "\"\"\"sim.analysis.plotLFP(**{'plots': ['timeSeries'], \n",
    "        'electrodes': [0], #'avg', \n",
    "        'timeRange': [350, cfg.duration], \n",
    "        'figSize': (12,4), 'saveFig': False, 'showFig': False})\"\"\"\n",
    "\n",
    "\"\"\"sim.analysis.plotShape(includePre=['E'], includePost=['E'], includeAxon=False, showSyns=False, showElectrodes=[0],\n",
    "    cvar= 'voltage', dist=0.6, elev=95, azim=-90, \n",
    "    axisLabels=True, synStyle='o', \n",
    "    clim= [-80, -60], showFig=False, synSize=2)\"\"\"\n",
    "\"\"\"sim.analysis.plotShape(includePre=allpops, includePost=allpops, includeAxon=True, showSyns=False, showElectrodes=False,\n",
    "    cvar= 'voltage', dist=0.6, elev=95, azim=-90, \n",
    "    axisLabels=True, synStyle='o', \n",
    "    clim= [-100, -50], showFig=False, synSize=2)\"\"\"\n",
    "\n",
    "sim.analysis.plotTraces(\n",
    "    overlay=True, oneFigPer=\"trace\", figSize=(12, 3), fontSize=15, saveFig=False\n",
    ")\n",
    "\n",
    "# plt.show()"
   ]
  }
 ],
 "metadata": {
  "kernelspec": {
   "display_name": "base",
   "language": "python",
   "name": "python3"
  },
  "language_info": {
   "codemirror_mode": {
    "name": "ipython",
    "version": 3
   },
   "file_extension": ".py",
   "mimetype": "text/x-python",
   "name": "python",
   "nbconvert_exporter": "python",
   "pygments_lexer": "ipython3",
   "version": "3.11.5"
  }
 },
 "nbformat": 4,
 "nbformat_minor": 2
}
