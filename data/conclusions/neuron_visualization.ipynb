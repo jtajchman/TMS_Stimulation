{
 "cells": [
  {
   "cell_type": "code",
   "execution_count": null,
   "metadata": {},
   "outputs": [],
   "source": [
    "import os\n",
    "import sys\n",
    "from pathlib import Path\n",
    "rootFolder = str(Path(os.path.abspath('')).parent.parent)\n",
    "sys.path.append(rootFolder)\n",
    "\n",
    "import numpy as np\n",
    "from sim.cell_visualization.sphere_surface import plot_sphere_pv, get_thresh_map_from_fname\n",
    "from sim.cell_visualization.cell_plotting import plot_cell_3D\n",
    "import pyvista as pv\n",
    "from pyvista.plotting.plotter import Plotter"
   ]
  },
  {
   "cell_type": "code",
   "execution_count": 3,
   "metadata": {},
   "outputs": [
    {
     "data": {
      "application/vnd.jupyter.widget-view+json": {
       "model_id": "993ac97dd0894746b530e913fc3b1694",
       "version_major": 2,
       "version_minor": 0
      },
      "text/plain": [
       "Widget(value='<iframe src=\"http://localhost:55740/index.html?ui=P_0x240db61cc50_0&reconnect=auto\" class=\"pyvis…"
      ]
     },
     "metadata": {},
     "output_type": "display_data"
    }
   ],
   "source": [
    "cell_name_ID = \"L5_TTPC2_cADpyr_1\"\n",
    "\n",
    "exc_monophasic_3comp_name = 'L5_TTPC2_cADpyr_Monophasic_run0'\n",
    "exc_monophasic_3comp_fname = f'data/tms_thresholds/{exc_monophasic_3comp_name}/{exc_monophasic_3comp_name}_results.json'\n",
    "thresh_map = get_thresh_map_from_fname(exc_monophasic_3comp_fname)[cell_name_ID]\n",
    "cmap_name = \"inferno_r\"\n",
    "radius = 1000\n",
    "opacity = 0.6\n",
    "\n",
    "plotter = Plotter(notebook=1, shape=\"1|2\")\n",
    "plotter.subplot(0)\n",
    "plot_sphere_pv(thresh_map, cmap_name, radius, plotter=plotter, show=False, opacity=opacity)\n",
    "plot_cell_3D(cell_name_ID, plotter=plotter, show=False)\n",
    "plotter.subplot(1)\n",
    "plot_sphere_pv(thresh_map, cmap_name, radius, plotter=plotter, show=False, opacity=1, toggle=False)\n",
    "plotter.subplot(2)\n",
    "plot_cell_3D(cell_name_ID, plotter=plotter, show=False)\n",
    "plotter.link_views()\n",
    "\n",
    "plotter.show()\n"
   ]
  }
 ],
 "metadata": {
  "kernelspec": {
   "display_name": "base",
   "language": "python",
   "name": "python3"
  },
  "language_info": {
   "codemirror_mode": {
    "name": "ipython",
    "version": 3
   },
   "file_extension": ".py",
   "mimetype": "text/x-python",
   "name": "python",
   "nbconvert_exporter": "python",
   "pygments_lexer": "ipython3",
   "version": "3.11.5"
  }
 },
 "nbformat": 4,
 "nbformat_minor": 2
}
