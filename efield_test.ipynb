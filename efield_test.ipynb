{
 "cells": [
  {
   "cell_type": "code",
   "execution_count": 1,
   "metadata": {},
   "outputs": [],
   "source": [
    "%matplotlib ipympl\n",
    "from tms_tools.tms_efield import get_efield\n",
    "from tms_tools import ms, us, Hz, V, m\n",
    "import matplotlib\n",
    "\n",
    "matplotlib.use('Agg')\n",
    "\n",
    "wav, time = get_efield(\n",
    "    freq = 20 * Hz,\n",
    "    duration = 300 * ms,\n",
    "    pulse_resolution = 1 * ms,\n",
    "    tstart = 0 * ms,\n",
    "    ef_amp = 100 * V/m,\n",
    "    pshape = \"Sine\",\n",
    "    width = 25 * ms,\n",
    "    pat = None,\n",
    "    npulses = 2,\n",
    "    interval = 0 * ms,\n",
    "    p_onset_interval = None,\n",
    "    set_freq = None,\n",
    "    plot = True,\n",
    "    interp = True,\n",
    ")\n"
   ]
  }
 ],
 "metadata": {
  "kernelspec": {
   "display_name": "base",
   "language": "python",
   "name": "python3"
  },
  "language_info": {
   "codemirror_mode": {
    "name": "ipython",
    "version": 3
   },
   "file_extension": ".py",
   "mimetype": "text/x-python",
   "name": "python",
   "nbconvert_exporter": "python",
   "pygments_lexer": "ipython3",
   "version": "3.11.5"
  }
 },
 "nbformat": 4,
 "nbformat_minor": 2
}
