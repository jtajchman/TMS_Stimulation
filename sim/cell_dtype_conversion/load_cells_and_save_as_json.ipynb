{
 "cells": [
  {
   "cell_type": "code",
   "execution_count": 2,
   "metadata": {},
   "outputs": [
    {
     "name": "stdout",
     "output_type": "stream",
     "text": [
      "['L1_DAC_bNAC', 'L1_DAC_cNAC', 'L1_DLAC_cNAC', 'L1_HAC_bNAC', 'L1_HAC_cIR', 'L1_HAC_cNAC', 'L1_NGC-DA_bNAC', 'L1_NGC-DA_cACint', 'L1_NGC-DA_cNAC', 'L1_NGC-DA_cSTUT', 'L1_NGC-SA_cNAC', 'L1_SLAC_bNAC', 'L1_SLAC_cACint', 'L1_SLAC_cNAC', 'L23_BP_bAC', 'L23_BP_bIR', 'L23_BP_bNAC', 'L23_BP_cACint', 'L23_BP_cNAC', 'L23_BP_dSTUT', 'L23_BTC_bAC', 'L23_BTC_bIR', 'L23_BTC_bNAC', 'L23_BTC_cACint', 'L23_BTC_cNAC', 'L23_ChC_cACint', 'L23_ChC_cNAC', 'L23_ChC_dNAC', 'L23_DBC_bAC', 'L23_DBC_bIR', 'L23_DBC_bNAC', 'L23_DBC_cACint', 'L23_LBC_bAC', 'L23_LBC_bNAC', 'L23_LBC_cACint', 'L23_LBC_cNAC', 'L23_LBC_cSTUT', 'L23_LBC_dNAC', 'L23_MC_bAC', 'L23_MC_bNAC', 'L23_MC_cACint', 'L23_MC_cNAC', 'L23_MC_dNAC', 'L23_NBC_bAC', 'L23_NBC_bNAC', 'L23_NBC_cACint', 'L23_NBC_cIR', 'L23_NBC_cNAC', 'L23_NBC_dNAC', 'L23_NGC_bNAC', 'L23_NGC_cACint', 'L23_NGC_cNAC', 'L23_NGC_cSTUT', 'L23_PC_cADpyr', 'L23_SBC_bNAC', 'L23_SBC_cACint', 'L23_SBC_dNAC', 'L4_BP_bAC', 'L4_BP_bIR', 'L4_BP_bNAC', 'L4_BP_cACint', 'L4_BP_cNAC', 'L4_BP_dSTUT', 'L4_BTC_bAC', 'L4_BTC_bIR', 'L4_BTC_bSTUT', 'L4_BTC_cACint', 'L4_BTC_cNAC', 'L4_BTC_dNAC', 'L4_ChC_cACint', 'L4_ChC_cNAC', 'L4_ChC_dNAC', 'L4_DBC_bAC', 'L4_DBC_bIR', 'L4_DBC_bNAC', 'L4_DBC_bSTUT', 'L4_DBC_cACint', 'L4_DBC_cIR', 'L4_DBC_cNAC', 'L4_LBC_cACint', 'L4_LBC_cNAC', 'L4_LBC_cSTUT', 'L4_LBC_dNAC', 'L4_LBC_dSTUT', 'L4_MC_bAC', 'L4_MC_bNAC', 'L4_MC_cACint', 'L4_MC_cNAC', 'L4_MC_dNAC', 'L4_NBC_cACint', 'L4_NBC_cIR', 'L4_NBC_cNAC', 'L4_NBC_dNAC', 'L4_NGC_bNAC', 'L4_NGC_cACint', 'L4_NGC_cNAC', 'L4_NGC_cSTUT', 'L4_PC_cADpyr', 'L4_SBC_bNAC', 'L4_SBC_cACint', 'L4_SBC_dNAC', 'L4_SP_cADpyr', 'L4_SS_cADpyr', 'L5_BP_bAC', 'L5_BP_bIR', 'L5_BP_bNAC', 'L5_BP_cACint', 'L5_BP_cNAC', 'L5_BP_dSTUT', 'L5_BTC_bAC', 'L5_BTC_cACint', 'L5_BTC_cNAC', 'L5_ChC_cACint', 'L5_ChC_cNAC', 'L5_ChC_dNAC', 'L5_DBC_bAC', 'L5_DBC_bIR', 'L5_DBC_bNAC', 'L5_DBC_bSTUT', 'L5_DBC_cACint', 'L5_DBC_cIR', 'L5_DBC_cNAC', 'L5_LBC_bAC', 'L5_LBC_cACint', 'L5_LBC_cIR', 'L5_LBC_cNAC', 'L5_LBC_cSTUT', 'L5_LBC_dNAC', 'L5_LBC_dSTUT', 'L5_MC_bAC', 'L5_MC_bIR', 'L5_MC_bSTUT', 'L5_MC_cACint', 'L5_MC_cNAC', 'L5_MC_cSTUT', 'L5_MC_dNAC', 'L5_NBC_bAC', 'L5_NBC_bIR', 'L5_NBC_bSTUT', 'L5_NBC_cACint', 'L5_NBC_cIR', 'L5_NBC_cNAC', 'L5_NBC_cSTUT', 'L5_NBC_dSTUT', 'L5_NGC_bNAC', 'L5_NGC_cACint', 'L5_NGC_cNAC', 'L5_NGC_cSTUT', 'L5_SBC_bNAC', 'L5_SBC_cACint', 'L5_SBC_dNAC', 'L5_STPC_cADpyr', 'L5_TTPC1_cADpyr', 'L5_TTPC2_cADpyr', 'L5_UTPC_cADpyr', 'L6_BPC_cADpyr', 'L6_BP_bAC', 'L6_BP_bIR', 'L6_BP_bNAC', 'L6_BP_cACint', 'L6_BP_cNAC', 'L6_BP_dSTUT', 'L6_BTC_bAC', 'L6_BTC_cACint', 'L6_BTC_cNAC', 'L6_ChC_cACint', 'L6_ChC_cNAC', 'L6_ChC_dNAC', 'L6_DBC_bAC', 'L6_DBC_bIR', 'L6_DBC_bNAC', 'L6_DBC_bSTUT', 'L6_DBC_cACint', 'L6_DBC_cIR', 'L6_DBC_cNAC', 'L6_IPC_cADpyr', 'L6_LBC_bAC', 'L6_LBC_bIR', 'L6_LBC_bNAC', 'L6_LBC_bSTUT', 'L6_LBC_cNAC', 'L6_LBC_cSTUT', 'L6_MC_bAC', 'L6_MC_bIR', 'L6_MC_bNAC', 'L6_MC_bSTUT', 'L6_MC_cACint', 'L6_MC_cIR', 'L6_MC_cNAC', 'L6_NBC_bAC', 'L6_NBC_bIR', 'L6_NBC_bSTUT', 'L6_NBC_cACint', 'L6_NBC_cIR', 'L6_NBC_cNAC', 'L6_NBC_cSTUT', 'L6_NBC_dSTUT', 'L6_NGC_bNAC', 'L6_NGC_cACint', 'L6_NGC_cNAC', 'L6_NGC_cSTUT', 'L6_SBC_bNAC', 'L6_SBC_cACint', 'L6_SBC_dNAC', 'L6_TPC_L1_cADpyr', 'L6_TPC_L4_cADpyr', 'L6_UTPC_cADpyr']\n"
     ]
    }
   ],
   "source": [
    "import os\n",
    "import shutil\n",
    "import neuron   \n",
    "\n",
    "# ## https://bbp.epfl.ch/nmc-portal/assets/documents/static/Download/hoc_combos_syn.1_0_10.allzips.tar\n",
    "# ## extracted 1035 folders in home/fernando/hoc_combos_syn.1_0_10.allzips  #~ not inclued in the github\n",
    "\n",
    "rootFolder = 'C:/Users/jacob/Documents/Work/NetPyNE/TMS_Stimulation/'\n",
    "cellsFolder = rootFolder + 'tmsneurosim/nrn/cells/cells_hoc/'\n",
    "#os.chdir(cellsFolder)\n",
    "\n",
    "folder = os.listdir(cellsFolder)\n",
    "folder = sorted(folder)\n",
    "cells = folder[:-1]\n",
    "print(folder)\n",
    "\n",
    "output_dir = rootFolder + 'cells/'"
   ]
  },
  {
   "cell_type": "code",
   "execution_count": null,
   "metadata": {},
   "outputs": [],
   "source": [
    "from netpyne import specs\n",
    "netParams = specs.NetParams()\n",
    "\n",
    "for cellName in [cells[0]]:\n",
    "    for cell_id in range(1, 6):\n",
    "        cellRuleLabel = f\"{cellName}_{cell_id}_rule\"\n",
    "        cellRule = netParams.importCellParams(\n",
    "            label=cellRuleLabel,\n",
    "            somaAtOrigin=False,\n",
    "            conds={\"cellType\": cellName, \"cellModel\": \"HH_full\"},\n",
    "            fileName=\"cellwrapper3.py\",\n",
    "            cellName=\"loadCell_tmsneurosim\",\n",
    "            cellInstance=True,\n",
    "            cellArgs={\"cellName\": cellName, \"id\": cell_id},\n",
    "        )\n",
    "\n",
    "        cellSecLists = cellRule[\"secLists\"]\n",
    "        cellSecs = cellRule[\"secs\"]\n",
    "\n",
    "        cellSecLists[\"all\"] = list(cellSecs.keys())\n",
    "        cellSecLists[\"somatic\"] = [sec for sec in list(cellSecs.keys()) if \"soma\" in sec]\n",
    "        cellSecLists[\"apical\"] = [sec for sec in list(cellSecs.keys()) if \"apic\" in sec]\n",
    "        cellSecLists[\"basal\"] = [sec for sec in list(cellSecs.keys()) if \"dend\" in sec]\n",
    "        cellSecLists[\"axonal\"] = [\n",
    "            sec\n",
    "            for sec in list(cellSecs.keys())\n",
    "            if \"Node\" in sec or \"axon\" in sec or \"y\" in sec\n",
    "        ]\n",
    "\n",
    "        for sec in cellSecs.values():\n",
    "            # sec[\"mechs\"][\"extracellular\"] = {}\n",
    "            del sec.mechs.xtra\n",
    "            # if sec[\"geom\"][\"diam\"] > 10:\n",
    "            #     sec[\"geom\"][\"diam\"] = 1.0\n",
    "            #     sec[\"geom\"][\"pt3d\"] = [\n",
    "            #         (pt[0], pt[1], pt[2], 1.0) for pt in sec[\"geom\"][\"pt3d\"]\n",
    "            #     ]\n",
    "\n",
    "        print(dir(cellRule))\n",
    "\n",
    "        print(\n",
    "            f\"Axon sections ({cellName}): \"\n",
    "            + str(len(netParams.cellParams[cellRuleLabel][\"secLists\"][\"axonal\"]))\n",
    "        )\n",
    "\n",
    "# for cellName in folder:\n",
    "            \n",
    "#     in_folder = cellsFolder + cellName\n",
    "#     out_folder = output_dir + cellName[:-5]\n",
    "    \n",
    "#     if cellName[-1] == '1':\n",
    "#         shutil.copytree(in_folder, out_folder)\n",
    "    \n",
    "#     try:\n",
    "#         morphology_folder = f'{out_folder}/morphology/'\n",
    "#         files = os.listdir(morphology_folder)\n",
    "#         for file in files:\n",
    "#             file_path = os.path.join(morphology_folder, file)\n",
    "#             if os.path.isfile(file_path):\n",
    "#                 os.remove(file_path)\n",
    "#     except OSError:\n",
    "#         print(\"Error occurred while deleting files.\")\n",
    "    \n",
    "#     # os.remove(f'{out_folder}/morphology/*')\n",
    "\n",
    "#     shutil.copytree(f'{in_folder}/morphology/', f'{out_folder}/morphology/{cellName[-1]}/')\n",
    "\n",
    "#     print(f'{in_folder}/morphology/*', f'{out_folder}/morphology/{cellName[-1]}/')"
   ]
  }
 ],
 "metadata": {
  "kernelspec": {
   "display_name": "base",
   "language": "python",
   "name": "python3"
  },
  "language_info": {
   "codemirror_mode": {
    "name": "ipython",
    "version": 3
   },
   "file_extension": ".py",
   "mimetype": "text/x-python",
   "name": "python",
   "nbconvert_exporter": "python",
   "pygments_lexer": "ipython3",
   "version": "3.11.5"
  }
 },
 "nbformat": 4,
 "nbformat_minor": 2
}
