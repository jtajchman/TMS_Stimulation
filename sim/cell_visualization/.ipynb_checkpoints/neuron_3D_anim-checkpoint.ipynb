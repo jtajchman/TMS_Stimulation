{
 "cells": [
  {
   "cell_type": "code",
   "execution_count": 1,
   "metadata": {},
   "outputs": [],
   "source": [
    "import os\n",
    "import sys\n",
    "from pathlib import Path\n",
    "rootFolder = str(Path(os.path.abspath(\"\")).parent)\n",
    "sys.path.append(rootFolder)\n",
    "\n",
    "# %matplotlib inline\n",
    "import numpy as np\n",
    "from tms_thresholds.recruitment_analysis import get_results\n",
    "from sphere_surface import plot_sphere_pv, get_thresh_map_from_fname, anim_sphere_test\n",
    "from cell_plotting import plot_cell_3D, plot_cell_3D_w_init_site\n",
    "from cell_animation import plot_cell_3D_w_voltages, plot_cell_all\n",
    "import pyvista as pv\n",
    "from pyvista.plotting.plotter import Plotter"
   ]
  },
  {
   "cell_type": "code",
   "execution_count": 2,
   "metadata": {
    "editable": true,
    "slideshow": {
     "slide_type": ""
    },
    "tags": []
   },
   "outputs": [
    {
     "data": {
      "application/vnd.jupyter.widget-view+json": {
       "model_id": "9016ba67e6644608925032e489a45954",
       "version_major": 2,
       "version_minor": 0
      },
      "text/plain": [
       "Widget(value='<iframe id=\"pyvista-jupyter_trame__template_P_0x1ab55c4b910_0\" src=\"http://localhost:8888/trame-…"
      ]
     },
     "metadata": {},
     "output_type": "display_data"
    }
   ],
   "source": [
    "cell_name_ID = \"L5_TTPC2_cADpyr_1\"\n",
    "\n",
    "exc_monophasic_3comp_name = \"L5_TTPC2_cADpyr_Monophasic_run0\"\n",
    "exc_monophasic_3comp_fname = f\"data/tms_thresholds/{exc_monophasic_3comp_name}/{exc_monophasic_3comp_name}_results.json\"\n",
    "thresh_map = get_thresh_map_from_fname(exc_monophasic_3comp_fname)[cell_name_ID]\n",
    "cmap_name = \"inferno_r\"\n",
    "radius = 1000\n",
    "opacity = 0.6\n",
    "\n",
    "results = get_results(exc_monophasic_3comp_fname)\n",
    "\n",
    "tms_params = dict(\n",
    "    # Coupling params\n",
    "    decay_rate_percent_per_mm=0,            # Rate of decay that the field diminishes by over space (uniform field at 0)\n",
    "    E_field_dir={\"Coord_type\": \"Spherical\",\n",
    "                 \"Polar\": 90.,\n",
    "                 \"Azimuthal\": 0.,},                         # Empty because it will be populated and iterated over in cell_type_threshold_map\n",
    "    decay_dir={\"Coord_type\": \"Spherical\",   # Direction over which the field decays (meaningless when decay is 0)\n",
    "                \"Polar\": 180,\n",
    "                \"Azimuthal\": 0,},\n",
    "    somatodendritic_axis=[0, 1, 0],         # Defines the direction that Polar=0 points in\n",
    "    # Waveform params\n",
    "    stim_type=\"sTMS\",                       # Single-pulse TMS\n",
    "    efield_amplitude_V_per_m = 230.,\n",
    "    stim_start_ms=0,                        # When to apply the pulse\n",
    "    num_pulses_per_burst=1,                 # Number of pulses in a burst (useful for theta burst stimulation)\n",
    "    tms_pulse_width_ms=0.075,\n",
    "    tms_pulse_shape=\"Monophasic\",\n",
    "    # Simulation params\n",
    "    simulation_duration_ms=5,\n",
    "    default_dt = 0.005,                     # Time step when outside of any pulses\n",
    "    # pulse_dt = 0.005,\n",
    "    # num_time_steps_in_pulse_width = 15,           # Number of time steps to spend on each pulse (such that pulse_dt = tms_pulse_width / num_time_steps_in_pulse)\n",
    "    # Plotting quasipotentials\n",
    "    plot=False,\n",
    ")\n",
    "sim_results = None\n",
    "sim_results = \"compartCell_L5_TTPC2_cADpyr_1_HH_full_0_sim_results.pkl\"\n",
    "\n",
    "# pv.global_theme.trame.jupyter_extension_enabled = True\n",
    "# plot_cell_all(cell_name_ID, tms_params=tms_params, sim_results=sim_results)\n",
    "plotter = Plotter(notebook=1)\n",
    "# plotter.subplot(0)\n",
    "# plot_cell_3D_w_voltages(cell_name_ID, tms_params=tms_params, sim_results=sim_results, plotter=plotter)\n",
    "# plotter.subplot(1)\n",
    "plot_cell_3D(cell_name_ID, plotter=plotter, show=True)\n",
    "# plotter.subplot(2)\n",
    "# plot_cell_3D_w_init_site(cell_name_ID, tms_params, sim_results=sim_results, plotter=plotter, show=False)\n",
    "# plotter.link_views()\n",
    "\n",
    "# plotter.show()\n"
   ]
  }
 ],
 "metadata": {
  "kernelspec": {
   "display_name": "Python 3 (ipykernel)",
   "language": "python",
   "name": "python3"
  },
  "language_info": {
   "codemirror_mode": {
    "name": "ipython",
    "version": 3
   },
   "file_extension": ".py",
   "mimetype": "text/x-python",
   "name": "python",
   "nbconvert_exporter": "python",
   "pygments_lexer": "ipython3",
   "version": "3.11.5"
  }
 },
 "nbformat": 4,
 "nbformat_minor": 4
}
