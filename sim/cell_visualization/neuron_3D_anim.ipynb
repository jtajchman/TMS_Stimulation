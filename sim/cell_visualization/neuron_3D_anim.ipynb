{
 "cells": [
  {
   "cell_type": "code",
   "execution_count": 1,
   "metadata": {},
   "outputs": [],
   "source": [
    "import os\n",
    "import sys\n",
    "from pathlib import Path\n",
    "rootFolder = str(Path(os.path.abspath('')).parent)\n",
    "sys.path.append(rootFolder)\n",
    "\n",
    "# %matplotlib inline\n",
    "import numpy as np\n",
    "from tms_thresholds.recruitment_analysis import get_results\n",
    "from sphere_surface import plot_sphere_pv, get_thresh_map_from_fname, anim_sphere_test\n",
    "from cell_plotting import plot_cell_3D, plot_cell_3D_w_init_site\n",
    "import pyvista as pv\n",
    "from pyvista.plotting.plotter import Plotter"
   ]
  },
  {
   "cell_type": "code",
   "execution_count": 2,
   "metadata": {},
   "outputs": [
    {
     "name": "stdout",
     "output_type": "stream",
     "text": [
      "Applying extracellular stim (sTMS) to cell...\n",
      "2446\n",
      "2446\n",
      "2446\n"
     ]
    },
    {
     "data": {
      "application/vnd.jupyter.widget-view+json": {
       "model_id": "08e5ae42639943989a7ceb3eac89768c",
       "version_major": 2,
       "version_minor": 0
      },
      "text/plain": [
       "Widget(value='<iframe src=\"http://localhost:51185/index.html?ui=P_0x24f595b3bd0_0&reconnect=auto\" class=\"pyvis…"
      ]
     },
     "metadata": {},
     "output_type": "display_data"
    }
   ],
   "source": [
    "cell_name_ID = \"L5_TTPC2_cADpyr_1\"\n",
    "\n",
    "exc_monophasic_3comp_name = 'L5_TTPC2_cADpyr_Monophasic_run0'\n",
    "exc_monophasic_3comp_fname = f'data/tms_thresholds/{exc_monophasic_3comp_name}/{exc_monophasic_3comp_name}_results.json'\n",
    "thresh_map = get_thresh_map_from_fname(exc_monophasic_3comp_fname)[cell_name_ID]\n",
    "cmap_name = \"inferno_r\"\n",
    "radius = 1000\n",
    "opacity = 0.6\n",
    "\n",
    "results = get_results(exc_monophasic_3comp_fname)\n",
    "\n",
    "tms_params = results[\"tms_params\"]\n",
    "tms_params[\"E_field_dir\"] = {\"Coord_type\": \"Spherical\",\n",
    "                             \"Polar\": 90.,\n",
    "                             \"Azimuthal\": 0.,}\n",
    "tms_params[\"efield_amplitude_V_per_m\"] = 400.\n",
    "sim_results = \"compartCell_L5_TTPC2_cADpyr_1_HH_full_0_sim_results.pkl\"\n",
    "# sim_results = None\n",
    "\n",
    "plotter = Plotter(notebook=1)\n",
    "plot_cell_3D_w_init_site(cell_name_ID, tms_params, sim_results=sim_results, plotter=plotter, show=False)\n",
    "\n",
    "plotter.show()\n"
   ]
  }
 ],
 "metadata": {
  "kernelspec": {
   "display_name": "base",
   "language": "python",
   "name": "python3"
  },
  "language_info": {
   "codemirror_mode": {
    "name": "ipython",
    "version": 3
   },
   "file_extension": ".py",
   "mimetype": "text/x-python",
   "name": "python",
   "nbconvert_exporter": "python",
   "pygments_lexer": "ipython3",
   "version": "3.11.5"
  }
 },
 "nbformat": 4,
 "nbformat_minor": 2
}
