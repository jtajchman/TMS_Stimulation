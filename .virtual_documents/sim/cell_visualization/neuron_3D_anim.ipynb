import os
import sys
from pathlib import Path
rootFolder = str(Path(os.path.abspath("")).parent)
sys.path.append(rootFolder)

# %matplotlib inline
import numpy as np
from tms_thresholds.recruitment_analysis import get_results
from sphere_surface import plot_sphere_pv, get_thresh_map_from_fname, anim_sphere_test
from cell_plotting import plot_cell_3D, plot_cell_3D_w_init_site
from cell_animation import plot_cell_3D_w_voltages, plot_cell_all
import pyvista as pv
from pyvista.plotting.plotter import Plotter


cell_name_ID = "L5_TTPC2_cADpyr_1"

exc_monophasic_3comp_name = "L5_TTPC2_cADpyr_Monophasic_run0"
exc_monophasic_3comp_fname = f"data/tms_thresholds/{exc_monophasic_3comp_name}/{exc_monophasic_3comp_name}_results.json"
thresh_map = get_thresh_map_from_fname(exc_monophasic_3comp_fname)[cell_name_ID]
cmap_name = "inferno_r"
radius = 1000
opacity = 0.6

results = get_results(exc_monophasic_3comp_fname)

tms_params = dict(
    # Coupling params
    decay_rate_percent_per_mm=0,            # Rate of decay that the field diminishes by over space (uniform field at 0)
    E_field_dir={"Coord_type": "Spherical",
                 "Polar": 90.,
                 "Azimuthal": 0.,},                         # Empty because it will be populated and iterated over in cell_type_threshold_map
    decay_dir={"Coord_type": "Spherical",   # Direction over which the field decays (meaningless when decay is 0)
                "Polar": 180,
                "Azimuthal": 0,},
    somatodendritic_axis=[0, 1, 0],         # Defines the direction that Polar=0 points in
    # Waveform params
    stim_type="sTMS",                       # Single-pulse TMS
    efield_amplitude_V_per_m = 230.,
    stim_start_ms=0,                        # When to apply the pulse
    num_pulses_per_burst=1,                 # Number of pulses in a burst (useful for theta burst stimulation)
    tms_pulse_width_ms=0.075,
    tms_pulse_shape="Monophasic",
    # Simulation params
    simulation_duration_ms=5,
    default_dt = 0.005,                     # Time step when outside of any pulses
    # pulse_dt = 0.005,
    # num_time_steps_in_pulse_width = 15,           # Number of time steps to spend on each pulse (such that pulse_dt = tms_pulse_width / num_time_steps_in_pulse)
    # Plotting quasipotentials
    plot=False,
)
sim_results = None
sim_results = "compartCell_L5_TTPC2_cADpyr_1_HH_full_0_sim_results.pkl"

# pv.global_theme.trame.jupyter_extension_enabled = True
# plot_cell_all(cell_name_ID, tms_params=tms_params, sim_results=sim_results)
plotter = Plotter(notebook=1)
# plotter.subplot(0)
# plot_cell_3D_w_voltages(cell_name_ID, tms_params=tms_params, sim_results=sim_results, plotter=plotter)
# plotter.subplot(1)
plot_cell_3D(cell_name_ID, plotter=plotter, show=False)
# plotter.subplot(2)
# plot_cell_3D_w_init_site(cell_name_ID, tms_params, sim_results=sim_results, plotter=plotter, show=False)
# plotter.link_views()

plotter.show()

