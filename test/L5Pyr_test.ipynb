{
 "cells": [
  {
   "cell_type": "code",
   "execution_count": null,
   "metadata": {},
   "outputs": [
    {
     "name": "stdout",
     "output_type": "stream",
     "text": [
      "c:\\Users\\jacob\\Documents\\TMS_Stimulation\\sim\n"
     ]
    }
   ],
   "source": [
    "import os\n",
    "import sys\n",
    "from pathlib import Path\n",
    "simFolder = str(Path(os.path.abspath('')).parent / \"sim\")\n",
    "sys.path.append(simFolder)"
   ]
  },
  {
   "cell_type": "code",
   "execution_count": 9,
   "metadata": {},
   "outputs": [],
   "source": [
    "from tms_thresholds.threshold_sim import estimate_cell_threshold, cell_type_threshold_map, detect_spike\n",
    "from tms_thresholds.sim_control import TMS_sim, baseline_sim\n",
    "from extracellular_stim_tools import SingleExtracellular\n"
   ]
  },
  {
   "cell_type": "code",
   "execution_count": null,
   "metadata": {},
   "outputs": [
    {
     "name": "stderr",
     "output_type": "stream",
     "text": [
      "  6%|▌         | 24/422 [00:17<02:02,  3.25it/s]"
     ]
    },
    {
     "ename": "",
     "evalue": "",
     "output_type": "error",
     "traceback": [
      "\u001b[1;31mThe Kernel crashed while executing code in the current cell or a previous cell. \n",
      "\u001b[1;31mPlease review the code in the cell(s) to identify a possible cause of the failure. \n",
      "\u001b[1;31mClick <a href='https://aka.ms/vscodeJupyterKernelCrash'>here</a> for more info. \n",
      "\u001b[1;31mView Jupyter <a href='command:jupyter.viewOutput'>log</a> for further details."
     ]
    }
   ],
   "source": [
    "# Monophasic\n",
    "tms_pulse_width_ms=0.075 # Duration of the positive phase of the pulse\n",
    "\n",
    "pre_tms_period = 0 # For cell to reach baseline/get data on baseline activity\n",
    "spike_detection_time = 1\n",
    "tms_spiking_period = tms_pulse_width_ms+spike_detection_time # For spike detection\n",
    "\n",
    "# Cell type descriptions from the Blue Brain Project glossary: https://bbp.epfl.ch/nmc-portal/glossary.html\n",
    "# Layer 5 thick-tufted pyramidal cell with an early bifurcating apical tuft - continuous accommodating (adapting) pyramidal cell\n",
    "cell_name = 'L5_TTPC2_cADpyr'\n",
    "morphIDs = [1]\n",
    "angular_resolution = 10 # Angular degrees of separation to use when when determining which field directions to simulate\n",
    "                        # Applies to both the polar and azimuthal angles\n",
    "\n",
    "duration = pre_tms_period + tms_spiking_period # ms\n",
    "\n",
    "starting_E = 100 # Starting point of E-field amplitude in V/m to perform binary search from to estimate the cell's firing threshold at each parameter set\n",
    "search_factor = 2   # Factor to scale by (up or down) when searching for the bounds to perform the binary search within\n",
    "                    # Factor should be lower if guess is good to reflect confidence and minimize num of simulations\n",
    "search_precision = 0.01 # Threshold estimation will be at most this amount of relative error above the true threshold (e.g. 0.01 = 1% error)\n",
    "\n",
    "num_cores = 8 # Number of cores to allocate to the batch of parallel simulations\n",
    "\n",
    "tms_params = dict(\n",
    "    # Coupling params\n",
    "    decay_rate_percent_per_mm=0,            # Rate of decay that the field diminishes by over space (uniform field at 0)\n",
    "    E_field_dir={'Coord_type': 'Spherical',\n",
    "                'Polar': 0,\n",
    "                'Azimuthal': 0,},\n",
    "    decay_dir={'Coord_type': 'Spherical',   # Direction over which the field decays (meaningless when decay is 0)\n",
    "                'Polar': 180,\n",
    "                'Azimuthal': 0,},\n",
    "    somatodendritic_axis=[0, 1, 0],         # Defines the direction that Polar=0 points in\n",
    "    # Waveform params\n",
    "    stim_type='sTMS',                       # Single-pulse TMS\n",
    "    stim_start_ms=pre_tms_period,           # When to apply the pulse\n",
    "    num_pulses_per_burst=1,                 # Number of pulses in a burst (useful for theta burst stimulation)\n",
    "    tms_pulse_width_ms=tms_pulse_width_ms,\n",
    "    tms_pulse_shape='Half-Sine',\n",
    "    # Simulation params\n",
    "    tms_spiking_period=tms_spiking_period,  # Only pass this in for saving at the end\n",
    "    simulation_duration_ms=duration,\n",
    "    default_dt = 0.025,                     # Time step when outside of any pulses\n",
    "    num_time_steps_in_pulse = 50,           # Number of time steps to spend on each pulse (such that pulse_dt = tms_pulse_width / num_time_steps_in_pulse)\n",
    ")\n",
    "\n",
    "# Synaptic parameters (not fully implemented)\n",
    "syn_params = None\n",
    "\n",
    "# Runs the simulations, saves the results in the data folder, and returns the threshold_map data structure\n",
    "# cell_name_ID = f'{cell_name}_{morphIDs[0]}'\n",
    "# estimate_cell_threshold(cell_name_ID, starting_E, search_factor, search_precision, tms_params, syn_params)\n",
    "threshold_map = cell_type_threshold_map(cell_name, morphIDs, starting_E, search_factor, search_precision, angular_resolution, num_cores, tms_params, syn_params)\n",
    "# print(threshold_map)"
   ]
  },
  {
   "cell_type": "code",
   "execution_count": null,
   "metadata": {},
   "outputs": [
    {
     "name": "stdout",
     "output_type": "stream",
     "text": [
      "\n",
      "Start time:  2025-01-22 18:45:12.324678\n",
      "\n",
      "Creating network of 1 cell populations on 1 hosts...\n",
      "  Number of cells on node 0: 1 \n",
      "  Done; cell creation time = 0.09 s.\n",
      "Making connections...\n",
      "  Number of connections on node 0: 0 \n",
      "  Done; cell connection time = 0.00 s.\n",
      "  Number of stims on node 0: 0 \n",
      "  Done; cell stims creation time = 0.00 s.\n",
      "Recording 1 traces of 1 types on node 0\n",
      "Applying extracellular stim (sTMS) to network...\n",
      "\n",
      "Running with interval func using NEURON for 1.3 ms...\n",
      "  Done; run time = 0.21 s; real-time ratio: 0.01.\n",
      "\n",
      "Gathering data...\n",
      "  Done; gather time = 0.22 s.\n",
      "\n",
      "Analyzing...\n",
      "  Cells: 1\n",
      "  Connections: 0 (0.00 per cell)\n",
      "  Spikes: 0 (0.00 Hz)\n",
      "  Simulated time: 0.0 s; 1 workers\n",
      "  Run time: 0.21 s\n"
     ]
    }
   ],
   "source": [
    "# Monophasic\n",
    "tms_pulse_width_ms=0.075 # Duration of the positive phase of the pulse\n",
    "tms_pulse_width_ms *= 4 # Actual pulse width required for input of monophasic pulse (due to monophasic pulse width definition not including trailing negative phase)\n",
    "\n",
    "pre_tms_period = 0 # For cell to reach baseline/get data on baseline activity\n",
    "spike_detection_time = 1\n",
    "tms_spiking_period = tms_pulse_width_ms+spike_detection_time # For spike detection\n",
    "\n",
    "# Cell type descriptions from the Blue Brain Project glossary: https://bbp.epfl.ch/nmc-portal/glossary.html\n",
    "# Layer 5 thick-tufted pyramidal cell with an early bifurcating apical tuft - continuous accommodating (adapting) pyramidal cell\n",
    "cell_name_ID = 'L5_TTPC2_cADpyr_1'\n",
    "\n",
    "duration = pre_tms_period + tms_spiking_period # ms\n",
    "\n",
    "tms_params = dict(\n",
    "    # Coupling params\n",
    "    decay_rate_percent_per_mm=0,            # Rate of decay that the field diminishes by over space (uniform field at 0)\n",
    "    E_field_dir={'Coord_type': 'Spherical',\n",
    "                'Polar': 0,\n",
    "                'Azimuthal': 0,},\n",
    "    decay_dir={'Coord_type': 'Spherical',   # Direction over which the field decays (meaningless when decay is 0)\n",
    "                'Polar': 180,\n",
    "                'Azimuthal': 0,},\n",
    "    somatodendritic_axis=[0, 1, 0],         # Defines the direction that Polar=0 points in\n",
    "    # Waveform params\n",
    "    stim_type='sTMS',                       # Single-pulse TMS\n",
    "    efield_amplitude_V_per_m=210,\n",
    "    stim_start_ms=pre_tms_period,           # When to apply the pulse\n",
    "    num_pulses_per_burst=1,                 # Number of pulses in a burst (useful for theta burst stimulation)\n",
    "    tms_pulse_width_ms=tms_pulse_width_ms,\n",
    "    tms_pulse_shape='Monophasic',\n",
    "    # Simulation params\n",
    "    tms_spiking_period=tms_spiking_period,  # Only pass this in for saving at the end\n",
    "    simulation_duration_ms=duration,\n",
    "    default_dt = 0.025,                     # Time step when outside of any pulses\n",
    "    num_time_steps_in_pulse = 50,           # Number of time steps to spend on each pulse (such that pulse_dt = tms_pulse_width / num_time_steps_in_pulse)\n",
    "    # Plotting quasipotentials\n",
    "    plot=False,\n",
    ")\n",
    "\n",
    "# Runs the simulations, saves the results in the data folder, and returns the threshold_map data structure\n",
    "# threshold_map = cell_type_threshold_map(cell_name, morphIDs, starting_E, search_factor, search_precision, angular_resolution, num_cores, tms_params, syn_params)\n",
    "# print(threshold_map)\n",
    "\n",
    "# savestate = baseline_sim(cell_name_ID)\n",
    "ecs1 = TMS_sim(cell_name_ID, tms_params)\n",
    "# ecs2 = TMS_sim(cell_name_ID, tms_params, savestate=savestate)\n"
   ]
  },
  {
   "cell_type": "code",
   "execution_count": null,
   "metadata": {},
   "outputs": [
    {
     "name": "stdout",
     "output_type": "stream",
     "text": [
      "[]\n",
      "[]\n",
      "0\n",
      "False\n"
     ]
    }
   ],
   "source": [
    "print([a for a in ecs1.action_potentials])\n",
    "print([b for b in ecs1.action_potentials_recording_ids])\n",
    "print(len(ecs1.action_potentials))\n",
    "print(detect_spike(ecs1))"
   ]
  },
  {
   "cell_type": "code",
   "execution_count": null,
   "metadata": {},
   "outputs": [
    {
     "ename": "NameError",
     "evalue": "name 'ecs2' is not defined",
     "output_type": "error",
     "traceback": [
      "\u001b[1;31m---------------------------------------------------------------------------\u001b[0m",
      "\u001b[1;31mNameError\u001b[0m                                 Traceback (most recent call last)",
      "Cell \u001b[1;32mIn[5], line 1\u001b[0m\n\u001b[1;32m----> 1\u001b[0m \u001b[38;5;28mprint\u001b[39m([a \u001b[38;5;28;01mfor\u001b[39;00m a \u001b[38;5;129;01min\u001b[39;00m ecs2\u001b[38;5;241m.\u001b[39maction_potentials])\n\u001b[0;32m      2\u001b[0m \u001b[38;5;28mprint\u001b[39m([b \u001b[38;5;28;01mfor\u001b[39;00m b \u001b[38;5;129;01min\u001b[39;00m ecs2\u001b[38;5;241m.\u001b[39maction_potentials_recording_ids])\n\u001b[0;32m      3\u001b[0m \u001b[38;5;28mprint\u001b[39m(\u001b[38;5;28mlen\u001b[39m(ecs2\u001b[38;5;241m.\u001b[39maction_potentials))\n",
      "\u001b[1;31mNameError\u001b[0m: name 'ecs2' is not defined"
     ]
    }
   ],
   "source": [
    "print([a for a in ecs2.action_potentials])\n",
    "print([b for b in ecs2.action_potentials_recording_ids])\n",
    "print(len(ecs2.action_potentials))\n",
    "print(detect_spike(ecs2))"
   ]
  }
 ],
 "metadata": {
  "kernelspec": {
   "display_name": "base",
   "language": "python",
   "name": "python3"
  },
  "language_info": {
   "codemirror_mode": {
    "name": "ipython",
    "version": 3
   },
   "file_extension": ".py",
   "mimetype": "text/x-python",
   "name": "python",
   "nbconvert_exporter": "python",
   "pygments_lexer": "ipython3",
   "version": "3.11.5"
  }
 },
 "nbformat": 4,
 "nbformat_minor": 2
}
